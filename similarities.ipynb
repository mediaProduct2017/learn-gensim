{
 "cells": [
  {
   "cell_type": "markdown",
   "metadata": {},
   "source": [
    "## Document similarity calculation and nearest neighbor search"
   ]
  },
  {
   "cell_type": "markdown",
   "metadata": {},
   "source": [
    "计算两个文档或者两个句子的相似度相当管用。任何可以用语言描述的事物（文章、商品、人都是这样）都可以在语言层面对其向量化，向量化之后就可以做分类、聚类，做相关推荐。但是，要完成这样的任务，向量化和计算相似度是基础。\n",
    "\n",
    "[如何计算两个文档的相似度全文文档](http://www.52nlp.cn/%E5%A6%82%E4%BD%95%E8%AE%A1%E7%AE%97%E4%B8%A4%E4%B8%AA%E6%96%87%E6%A1%A3%E7%9A%84%E7%9B%B8%E4%BC%BC%E5%BA%A6%E5%85%A8%E6%96%87%E6%96%87%E6%A1%A3)\n",
    "\n",
    "[如何计算两个文档的相似度（一）](http://www.52nlp.cn/%E5%A6%82%E4%BD%95%E8%AE%A1%E7%AE%97%E4%B8%A4%E4%B8%AA%E6%96%87%E6%A1%A3%E7%9A%84%E7%9B%B8%E4%BC%BC%E5%BA%A6%E4%B8%80)\n",
    "\n",
    "[如何计算两个文档的相似度（二）](http://www.52nlp.cn/%E5%A6%82%E4%BD%95%E8%AE%A1%E7%AE%97%E4%B8%A4%E4%B8%AA%E6%96%87%E6%A1%A3%E7%9A%84%E7%9B%B8%E4%BC%BC%E5%BA%A6%E4%BA%8C)\n",
    "\n",
    "[如何计算两个文档的相似度（三）](http://www.52nlp.cn/%E5%A6%82%E4%BD%95%E8%AE%A1%E7%AE%97%E4%B8%A4%E4%B8%AA%E6%96%87%E6%A1%A3%E7%9A%84%E7%9B%B8%E4%BC%BC%E5%BA%A6%E4%B8%89)\n"
   ]
  },
  {
   "cell_type": "markdown",
   "metadata": {},
   "source": [
    "计算两个向量的相似度是经常用到的操作，可以通过求向量点积或者向量夹角大小来衡量。从一堆向量中寻找和一个向量相似度最大的向量又是另一回事，涉及到算法的效率和复杂度。Brute force的算法当然是可以的，就是把每一个向量和该向量的相似度都算一遍，然后从中找出相似度最大的那个。除了这种笨办法，还有一些巧妙的算法，如果向量是一维的，相当简单，可以用binary search来进行寻找。但如果向量是高维的，事情就变得复杂，没法简单用bianry search来做（搜索引擎中常用的index过程就是针对高维向量的，不像一维向量简单的排序就行，但本质是相同的；另外，不管是排序还是index，都可以保存在内存中，也可以保存在硬盘或者网络数据库中，然后导入）。Founder at RARE Technologies（gensim的出品方） Radiam写了三篇很好的文章来介绍相关问题和可能的解决办法：\n",
    "\n",
    "[Performance Shootout of Nearest Neighbours: Intro](https://rare-technologies.com/performance-shootout-of-nearest-neighbours-intro/)\n",
    "\n",
    "[Performance Shootout of Nearest Neighbours: Contestants](https://rare-technologies.com/performance-shootout-of-nearest-neighbours-contestants/)\n",
    "\n",
    "[Performance Shootout of Nearest Neighbours: Querying](https://rare-technologies.com/performance-shootout-of-nearest-neighbours-querying/#wikisim)\n",
    "\n",
    "另外，在gensim中，有相关的函数来解决文档相似度的问题，文档如下：\n",
    "\n",
    "[similarities.docsim – Document similarity queries](https://radimrehurek.com/gensim/similarities/docsim.html)\n",
    "\n",
    "    >>> from gensim.test.utils import common_corpus, common_dictionary, get_tmpfile\n",
    "    >>>\n",
    "    >>> index_tmpfile = get_tmpfile(\"index\")\n",
    "    >>> batch_of_documents = common_corpus[:]  # only as example\n",
    "    >>> index = Similarity(index_tmpfile, common_corpus, num_features=len(common_dictionary)) # build the index\n",
    "    >>>\n",
    "    >>> for similarities in index[batch_of_documents]: # the batch is simply an iterable of documents, aka gensim corpus.\n",
    "    ...     pass\n",
    "    \n",
    "    query = [(1, 2), (6, 1), (7, 2)]\n",
    "    similarities = index[query] # get similarities between the query and all index documents\n",
    "    \n",
    "There is also a special syntax for when you need similarity of documents in the index to the index itself (i.e. queries=indexed documents themselves). This special syntax uses the faster, batch queries internally and is ideal for all-vs-all pairwise similarities:\n",
    "\n",
    "    >>> from gensim.test.utils import common_corpus, common_dictionary, get_tmpfile\n",
    "    >>>\n",
    "    >>> index_tmpfile = get_tmpfile(\"index\")\n",
    "    >>> index = Similarity(index_tmpfile, common_corpus, num_features=len(common_dictionary)) # build the index\n",
    "    >>>\n",
    "    >>> for similarities in index: # yield similarities of the 1st indexed document, then 2nd...\n",
    "    ...     pass\n",
    "    "
   ]
  },
  {
   "cell_type": "markdown",
   "metadata": {},
   "source": [
    "Compute cosine similarity of a dynamic query against a static corpus of documents (‘the index’).\n",
    "\n",
    "Notes\n",
    "\n",
    "Scalability is achieved by sharding the index into smaller pieces, each of which fits into core memory The shards themselves are simply stored as files to disk and mmap’ed back as needed.\n",
    "\n",
    "Examples\n",
    "\n",
    "    >>> from gensim.corpora.textcorpus import TextCorpus\n",
    "    >>> from gensim.test.utils import datapath, get_tmpfile\n",
    "    >>> from gensim.similarities import Similarity\n",
    "    >>>\n",
    "    >>> corpus = TextCorpus(datapath('testcorpus.mm'))\n",
    "    >>> index_temp = get_tmpfile(\"index\")\n",
    "    >>> index = Similarity(index_temp, corpus, num_features=400)  # create index\n",
    "    >>>\n",
    "    >>> query = next(iter(corpus))\n",
    "    >>> result = index[query]  # search similar to `query` in index\n",
    "    >>>\n",
    "    >>> for sims in index[corpus]: # if you have more query documents, you can submit them all at once, in a batch\n",
    "    ...     pass\n",
    "    >>>\n",
    "    >>> # There is also a special syntax for when you need similarity of documents in the index\n",
    "    >>> # to the index itself (i.e. queries=indexed documents themselves). This special syntax\n",
    "    >>> # uses the faster, batch queries internally and **is ideal for all-vs-all pairwise similarities**:\n",
    "    >>> for similarities in index: # yield similarities of the 1st indexed document, then 2nd...\n",
    "    ...     pass\n",
    "    \n"
   ]
  }
 ],
 "metadata": {
  "kernelspec": {
   "display_name": "Python 3",
   "language": "python",
   "name": "python3"
  },
  "language_info": {
   "codemirror_mode": {
    "name": "ipython",
    "version": 3
   },
   "file_extension": ".py",
   "mimetype": "text/x-python",
   "name": "python",
   "nbconvert_exporter": "python",
   "pygments_lexer": "ipython3",
   "version": "3.6.2"
  }
 },
 "nbformat": 4,
 "nbformat_minor": 2
}
